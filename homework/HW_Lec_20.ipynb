{
 "cells": [
  {
   "cell_type": "markdown",
   "id": "1e5d85fa-7864-4c24-a106-726fee95dead",
   "metadata": {},
   "source": [
    "Tabris Loveless\n",
    "11/14/2022"
   ]
  },
  {
   "cell_type": "code",
   "execution_count": 23,
   "id": "f07c46f8-dd57-4cc0-aa12-2e052fe03caf",
   "metadata": {},
   "outputs": [],
   "source": [
    "import numpy as np\n",
    "import requests\n",
    "import scipy\n",
    "from numba import jit\n",
    "\n",
    "def get_pos_from_url(address='http://doye.chem.ox.ac.uk/jon/structures/LJ/points/', N=7):\n",
    "    url_address = address + str(N)\n",
    "    data_str = requests.get(url_address).text\n",
    "    return parse_url_text(data_str)    \n",
    "    \n",
    "def parse_url_text(data_str):\n",
    "    x_array = []\n",
    "    text = data_str.split('\\n')\n",
    "    for line in text:\n",
    "        [x_array.append(float(i)) for i in line.split()]\n",
    "    return np.array(x_array)\n",
    "\n",
    "@jit\n",
    "def lj(r):   \n",
    "    r6 = r**6\n",
    "    r12 = r6*r6\n",
    "    return 4*(1/r12 - 1/r6)\n",
    "\n",
    "@jit\n",
    "def total_energy(positions):\n",
    "    \"\"\"\n",
    "    Calculates the total energy of a given system\n",
    "    \"\"\"\n",
    "    E = 0\n",
    "    n_atom = int(len(positions)/3)\n",
    "    \n",
    "    #assuming [x0 y0, z0, x1, y1, z1]\n",
    "    for i in range(n_atom-1):\n",
    "        for j in range(i+1, n_atom):\n",
    "            pos1 = positions[i*3:(i+1)*3]\n",
    "            pos2 = positions[j*3:(j+1)*3]\n",
    "            dist = np.linalg.norm(pos1-pos2)\n",
    "            E += lj(dist)\n",
    "    return E\n",
    "\n",
    "@jit\n",
    "def init_pos(N, L = 5):\n",
    "    return L*np.random.random_sample((N*3,))\n",
    "\n",
    "def init_bounds(N, l, r):\n",
    "    \"\"\"\n",
    "    Returns list of  bounds classes for given l and r and N number of atoms\n",
    "    \"\"\"\n",
    "    result = []\n",
    "    for i in range(N*3):\n",
    "        bound = [l, r]\n",
    "        result.append(bound)\n",
    "    return result\n"
   ]
  },
  {
   "cell_type": "code",
   "execution_count": 60,
   "id": "fd9d624a-e4cd-4f2a-8e14-cd051f4951f5",
   "metadata": {},
   "outputs": [],
   "source": [
    "#bounds set from 0 to 5\n",
    "def lj_evo(l, r, N):\n",
    "    atom_list = init_bounds(N, l, r)\n",
    "    results = scipy.optimize.differential_evolution(total_energy, atom_list, strategy = 'best1exp', polish = True)\n",
    "\n",
    "    url_results = get_pos_from_url(N = N)\n",
    "\n",
    "    print('URL minumum:           ',total_energy(url_results))\n",
    "    \n",
    "    print('Scipy Differntial Evo: ', total_energy(results.x))\n",
    "    print(results.x)"
   ]
  },
  {
   "cell_type": "code",
   "execution_count": 61,
   "id": "6eb5d2d4-b9f6-4d45-b057-0a40c72df94b",
   "metadata": {},
   "outputs": [
    {
     "name": "stdout",
     "output_type": "stream",
     "text": [
      "URL minumum:            -9.103852415681363\n",
      "Scipy Differntial Evo:  -9.103852415410929\n",
      "[7.12953734 6.10754324 3.81846565 6.4232842  6.98036473 3.76387124\n",
      " 6.66866379 6.39695592 2.83488805 6.03746808 5.93641917 3.63747826\n",
      " 7.44352016 7.05349028 3.30733892]\n"
     ]
    }
   ],
   "source": [
    "lj_evo(0, 10, 5)"
   ]
  },
  {
   "cell_type": "code",
   "execution_count": 62,
   "id": "93fe085e-bd33-46d5-ba0e-c644ca2451e9",
   "metadata": {},
   "outputs": [
    {
     "name": "stdout",
     "output_type": "stream",
     "text": [
      "URL minumum:            -44.32680141873466\n",
      "Scipy Differntial Evo:  -44.326801390568455\n",
      "[5.52950132 7.65024777 5.64825203 4.56730594 7.74823326 4.08231959\n",
      " 5.05089195 7.1316951  4.82825003 5.53804668 7.1967401  3.8644837\n",
      " 4.56372686 7.0666562  5.79199911 5.53446451 6.51515554 5.57417029\n",
      " 4.57006914 6.19190842 5.06486822 3.96906908 7.12721457 4.82419467\n",
      " 6.13271421 7.13618516 4.83228896 5.53976498 6.23488126 4.47174339\n",
      " 4.56202556 8.02851601 5.1847517  4.57229382 6.61315202 4.00822673\n",
      " 5.53170309 8.07148485 4.5916132 ]\n"
     ]
    }
   ],
   "source": [
    "lj_evo(0, 10, 13)"
   ]
  },
  {
   "cell_type": "code",
   "execution_count": null,
   "id": "a26a0dd3-9073-4d30-aab3-78149a8af0d4",
   "metadata": {},
   "outputs": [],
   "source": []
  }
 ],
 "metadata": {
  "kernelspec": {
   "display_name": "Python 3 (ipykernel)",
   "language": "python",
   "name": "python3"
  },
  "language_info": {
   "codemirror_mode": {
    "name": "ipython",
    "version": 3
   },
   "file_extension": ".py",
   "mimetype": "text/x-python",
   "name": "python",
   "nbconvert_exporter": "python",
   "pygments_lexer": "ipython3",
   "version": "3.9.12"
  }
 },
 "nbformat": 4,
 "nbformat_minor": 5
}
