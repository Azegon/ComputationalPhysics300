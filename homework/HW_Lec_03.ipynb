{
 "cells": [
  {
   "cell_type": "markdown",
   "id": "f4bcd9bd-d33c-46a1-9547-1da16c749381",
   "metadata": {},
   "source": [
    "Tabris Loveless\n",
    "9/8/2022"
   ]
  },
  {
   "cell_type": "code",
   "execution_count": 6,
   "id": "99408fef-620a-41ca-9650-66d16ea4e145",
   "metadata": {},
   "outputs": [
    {
     "name": "stdin",
     "output_type": "stream",
     "text": [
      "Enter Na:  300\n",
      "Enter Nb:  200\n",
      "Enter Qtotal:  100\n",
      "Enter range of QA (cannot be greater than Qtotal):  100\n"
     ]
    },
    {
     "data": {
      "image/png": "[encoded data removed]",
      "text/plain": [
       "<Figure size 432x288 with 1 Axes>"
      ]
     },
     "metadata": {
      "needs_background": "light"
     },
     "output_type": "display_data"
    }
   ],
   "source": [
    "import matplotlib.ticker as mtick\n",
    "import matplotlib.pyplot as plt\n",
    "import math\n",
    "\n",
    "# einstein function from last HW\n",
    "#fixed with the log division method\n",
    "def einstein(n, q):\n",
    "    fact = math.factorial(q)\n",
    "    #rewritten with the logorithmic division\n",
    "    omega = math.exp(math.log(math.factorial(q + n - 1)) - math.log(fact* math.factorial(n - 1)))\n",
    "    return omega\n",
    "\n",
    "\n",
    "#cross check code with prof given code\n",
    "#inputs Na, Nb, and Qt are the given values\n",
    "#Qa is x axis range, max is the Qtotal\n",
    "def plot_omega(n_a,n_b,q_t,q_a):\n",
    "    n_series = range(q_a+1)\n",
    "    omega = []\n",
    "    \n",
    "    for i in n_series:\n",
    "        #calculates Qb using that Qt = Qa+Qb\n",
    "        q_b = q_t - i\n",
    "        total_omega = einstein(n_a,q_a)*einstein(n_b,q_b)\n",
    "        omega.append(total_omega)\n",
    "    \n",
    "    plt.plot(n_series, omega)\n",
    "    plt.title('Qa='+str(q_a))\n",
    "    plt.xlabel('Qa')\n",
    "    plt.ylabel('$\\Omega(total)')\n",
    "\n",
    "    plt.show\n",
    "\n",
    "\n",
    "#get user inputs, and plot graph for given inputs\n",
    "def multi():\n",
    "    n_a = int(input('Enter Na: '))\n",
    "    n_b = int(input('Enter Nb: '))\n",
    "    q_t = int(input('Enter Qtotal: '))\n",
    "    q_a = int(input('Enter range of QA (cannot be greater than Qtotal): '))\n",
    "\n",
    "    if q_a <= q_t:\n",
    "        plot_omega(n_a,n_b,q_t,q_a)\n",
    "\n",
    "    if q_a > q_t:\n",
    "        print('Error: Qa greater than Qtotal')\n",
    "\n",
    "        \n",
    "multi()"
   ]
  },
  {
   "cell_type": "code",
   "execution_count": 7,
   "id": "7771cfdd-e674-4103-9593-113ffc3d3040",
   "metadata": {},
   "outputs": [
    {
     "name": "stdin",
     "output_type": "stream",
     "text": [
      "Enter Na:  3000\n",
      "Enter Nb:  2000\n",
      "Enter Qtotal:  100\n",
      "Enter range of QA (cannot be greater than Qtotal):  100\n"
     ]
    },
    {
     "data": {
      "image/png": "[encoded data removed]",
      "text/plain": [
       "<Figure size 432x288 with 1 Axes>"
      ]
     },
     "metadata": {
      "needs_background": "light"
     },
     "output_type": "display_data"
    }
   ],
   "source": [
    "multi()"
   ]
  },
  {
   "cell_type": "code",
   "execution_count": null,
   "id": "d8d3e33b-697a-497a-a7da-ce4ca57c1724",
   "metadata": {},
   "outputs": [],
   "source": []
  }
 ],
 "metadata": {
  "kernelspec": {
   "display_name": "Python 3 (ipykernel)",
   "language": "python",
   "name": "python3"
  },
  "language_info": {
   "codemirror_mode": {
    "name": "ipython",
    "version": 3
   },
   "file_extension": ".py",
   "mimetype": "text/x-python",
   "name": "python",
   "nbconvert_exporter": "python",
   "pygments_lexer": "ipython3",
   "version": "3.9.12"
  }
 },
 "nbformat": 4,
 "nbformat_minor": 5
}
