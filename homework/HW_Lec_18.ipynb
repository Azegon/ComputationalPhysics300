{
 "cells": [
  {
   "cell_type": "markdown",
   "id": "2a9aa61c-4117-4a77-846a-5894cdad6d2b",
   "metadata": {},
   "source": [
    "Tabris Loveless\n",
    "11/7/22"
   ]
  },
  {
   "cell_type": "code",
   "execution_count": 38,
   "id": "73e7eaa9-a901-4cbc-8c21-107dd45443dd",
   "metadata": {},
   "outputs": [],
   "source": [
    "import numpy as np\n",
    "import requests\n",
    "from scipy.optimize import minimize\n",
    "\n",
    "def get_pos_from_url(address='http://doye.chem.ox.ac.uk/jon/structures/LJ/points/', N=7):\n",
    "    url_address = address + str(N)\n",
    "    data_str = requests.get(url_address).text\n",
    "    return parse_url_text(data_str)    \n",
    "    \n",
    "def parse_url_text(data_str):\n",
    "    x_array = []\n",
    "    text = data_str.split('\\n')\n",
    "    for line in text:\n",
    "        [x_array.append(float(i)) for i in line.split()]\n",
    "    return np.array(x_array)\n",
    "\n",
    "#calculate every position\n",
    "def total_energy(positions):\n",
    "    \"\"\"\n",
    "    Calculates the total energy of a given system\n",
    "    \"\"\"\n",
    "    E = 0\n",
    "    n_atom = int(len(positions)/3)\n",
    "    \n",
    "    #assuming [x0 y0, z0, x1, y1, z1]\n",
    "    for i in range(n_atom-1):\n",
    "        for j in range(i+1, n_atom):\n",
    "            pos1 = positions[i*3:(i+1)*3]\n",
    "            pos2 = positions[j*3:(j+1)*3]\n",
    "            dist = np.linalg.norm(pos1-pos2)\n",
    "            E += lj(dist)\n",
    "    return E\n",
    "\n",
    "def init_pos(N, L = 5):\n",
    "    return L*np.random.random_sample((N*3,))"
   ]
  },
  {
   "cell_type": "code",
   "execution_count": 42,
   "id": "1b5d7baf-ff7c-4589-985e-42c5110a5b40",
   "metadata": {},
   "outputs": [
    {
     "name": "stdout",
     "output_type": "stream",
     "text": [
      "Website Min:  -77.17704248805858\n",
      "Calculated Min:  -63.760298010838994\n"
     ]
    }
   ],
   "source": [
    "pos = init_pos(20)\n",
    "res = minimize(total_energy, pos, method='CG', tol=1e-4)\n",
    "pos2 = get_pos_from_url(N=20)\n",
    "print('Website Min: ',total_energy(pos2))\n",
    "print('Calculated Min: ', res.fun) "
   ]
  },
  {
   "cell_type": "code",
   "execution_count": 41,
   "id": "6fe42132-f78b-4f61-ba06-409ddf8020ce",
   "metadata": {},
   "outputs": [
    {
     "name": "stdout",
     "output_type": "stream",
     "text": [
      "step:  0   values: -60.671136634585274\n",
      "The global minimum:   -67.8289327305798\n"
     ]
    }
   ],
   "source": [
    "f_values = []\n",
    "x_values = []\n",
    "N_attempts = 2\n",
    "N_atom = 20\n",
    "for i in range(N_attempts):\n",
    "    pos = init_pos(N_atom)\n",
    "    res = minimize(total_energy, pos, method='CG', tol=1e-4)\n",
    "    f_values.append(res.fun)\n",
    "    x_values.append(res.x)\n",
    "    if i%10==0:\n",
    "        print('step: ', i, '  values:', res.fun)\n",
    "\n",
    "print('The global minimum:  ', min(f_values))"
   ]
  },
  {
   "cell_type": "code",
   "execution_count": 50,
   "id": "77786871-5219-4ab7-86e2-92715a8ca7d7",
   "metadata": {},
   "outputs": [
    {
     "name": "stdout",
     "output_type": "stream",
     "text": [
      "Website Min:  -52.322627246105675\n",
      "[-47.11708863453824, -45.59127719978829, -51.365893867305296, -46.22000702186429, -46.47645943841371, -51.4180372249703, -49.68643207232437, -44.32680149305097, -40.67040807625458, -46.45411306278735, -47.845230815879965, -46.43298802823497, -47.11315580039397, -47.87883177545359, -40.6154689735297]\n",
      "Calculated Min:  -51.4180372249703\n"
     ]
    }
   ],
   "source": [
    "def singlemin(atoms, N):\n",
    "    energy = []\n",
    "    for i in range(N):\n",
    "        pos = init_pos(atoms)\n",
    "        res = minimize(total_energy, pos, method='CG', tol=1e-4)\n",
    "        energy.append(res.fun)\n",
    "\n",
    "    pos2 = get_pos_from_url(N=atoms)\n",
    "    webmin = total_energy(pos2)\n",
    "    print('Website Min: ',total_energy(pos2))\n",
    "    print(energy)\n",
    "    print('Calculated Min: ', min(energy, key=lambda x:abs(x-webmin)))\n",
    "    \n",
    "singlemin(15, 15)"
   ]
  }
 ],
 "metadata": {
  "kernelspec": {
   "display_name": "Python 3 (ipykernel)",
   "language": "python",
   "name": "python3"
  },
  "language_info": {
   "codemirror_mode": {
    "name": "ipython",
    "version": 3
   },
   "file_extension": ".py",
   "mimetype": "text/x-python",
   "name": "python",
   "nbconvert_exporter": "python",
   "pygments_lexer": "ipython3",
   "version": "3.9.12"
  }
 },
 "nbformat": 4,
 "nbformat_minor": 5
}
