{
 "cells": [
  {
   "cell_type": "markdown",
   "id": "2a9aa61c-4117-4a77-846a-5894cdad6d2b",
   "metadata": {},
   "source": [
    "Tabris Loveless\n",
    "11/7/22"
   ]
  },
  {
   "cell_type": "code",
   "execution_count": 12,
   "id": "73e7eaa9-a901-4cbc-8c21-107dd45443dd",
   "metadata": {},
   "outputs": [],
   "source": [
    "import numpy as np\n",
    "import requests\n",
    "from scipy.optimize import minimize\n",
    "from numba import jit\n",
    "\n",
    "def get_pos_from_url(address='http://doye.chem.ox.ac.uk/jon/structures/LJ/points/', N=7):\n",
    "    url_address = address + str(N)\n",
    "    data_str = requests.get(url_address).text\n",
    "    return parse_url_text(data_str)    \n",
    "    \n",
    "def parse_url_text(data_str):\n",
    "    x_array = []\n",
    "    text = data_str.split('\\n')\n",
    "    for line in text:\n",
    "        [x_array.append(float(i)) for i in line.split()]\n",
    "    return np.array(x_array)\n",
    "\n",
    "@jit\n",
    "def lj(r):   \n",
    "    r6 = r**6\n",
    "    r12 = r6*r6\n",
    "    return 4*(1/r12 - 1/r6)\n",
    "\n",
    "#calculate every position\n",
    "@jit\n",
    "def total_energy(positions):\n",
    "    \"\"\"\n",
    "    Calculates the total energy of a given system\n",
    "    \"\"\"\n",
    "    E = 0\n",
    "    n_atom = int(len(positions)/3)\n",
    "    \n",
    "    #assuming [x0 y0, z0, x1, y1, z1]\n",
    "    for i in range(n_atom-1):\n",
    "        for j in range(i+1, n_atom):\n",
    "            pos1 = positions[i*3:(i+1)*3]\n",
    "            pos2 = positions[j*3:(j+1)*3]\n",
    "            dist = np.linalg.norm(pos1-pos2)\n",
    "            E += lj(dist)\n",
    "    return E\n",
    "\n",
    "@jit\n",
    "def init_pos(N, L = 5):\n",
    "    return L*np.random.random_sample((N*3,))"
   ]
  },
  {
   "cell_type": "code",
   "execution_count": 7,
   "id": "1b5d7baf-ff7c-4589-985e-42c5110a5b40",
   "metadata": {},
   "outputs": [
    {
     "name": "stdout",
     "output_type": "stream",
     "text": [
      "Website Min:  -77.17704248805858\n",
      "Calculated Min:  -26.62331977141552\n"
     ]
    }
   ],
   "source": [
    "pos = init_pos(10)\n",
    "res = minimize(total_energy, pos, method='CG', tol=1e-4)\n",
    "pos2 = get_pos_from_url(N=20)\n",
    "print('Website Min: ',total_energy(pos2))\n",
    "print('Calculated Min: ', res.fun) "
   ]
  },
  {
   "cell_type": "code",
   "execution_count": 9,
   "id": "6fe42132-f78b-4f61-ba06-409ddf8020ce",
   "metadata": {},
   "outputs": [
    {
     "name": "stdout",
     "output_type": "stream",
     "text": [
      "step:  0   values: -18.778208174755772\n",
      "The global minimum:   -27.11490952739437\n"
     ]
    }
   ],
   "source": [
    "f_values = []\n",
    "x_values = []\n",
    "N_attempts = 2\n",
    "N_atom = 10\n",
    "for i in range(N_attempts):\n",
    "    pos = init_pos(N_atom)\n",
    "    res = minimize(total_energy, pos, method='CG', tol=1e-4)\n",
    "    f_values.append(res.fun)\n",
    "    x_values.append(res.x)\n",
    "    if i%10==0:\n",
    "        print('step: ', i, '  values:', res.fun)\n",
    "\n",
    "print('The global minimum:  ', min(f_values))"
   ]
  },
  {
   "cell_type": "code",
   "execution_count": 14,
   "id": "77786871-5219-4ab7-86e2-92715a8ca7d7",
   "metadata": {},
   "outputs": [
    {
     "name": "stdout",
     "output_type": "stream",
     "text": [
      "Website Min:  -28.422531893437565\n",
      "[-26.418356106786387, -26.52174160395751, -28.422531893388545, -26.44288499191578, -25.50400788959803, -26.442884991291688, -25.40748183944518, -25.288749212521765, -26.62331977166693, -27.545206852119104]\n",
      "Calculated Min:  -28.422531893388545\n"
     ]
    }
   ],
   "source": [
    "def singlemin(atoms, N):\n",
    "    energy = []\n",
    "    for i in range(N):\n",
    "        pos = init_pos(atoms)\n",
    "        res = minimize(total_energy, pos, method='CG', tol=1e-4)\n",
    "        energy.append(res.fun)\n",
    "\n",
    "    pos2 = get_pos_from_url(N=atoms)\n",
    "    webmin = total_energy(pos2)\n",
    "    print('Website Min: ',total_energy(pos2))\n",
    "    print(energy)\n",
    "    print('Calculated Min: ', min(energy))\n",
    "    \n",
    "singlemin(10, 10)"
   ]
  },
  {
   "cell_type": "code",
   "execution_count": null,
   "id": "4cdaf06a-1d36-4342-a9f9-aeb4252f62eb",
   "metadata": {},
   "outputs": [],
   "source": []
  }
 ],
 "metadata": {
  "kernelspec": {
   "display_name": "Python 3 (ipykernel)",
   "language": "python",
   "name": "python3"
  },
  "language_info": {
   "codemirror_mode": {
    "name": "ipython",
    "version": 3
   },
   "file_extension": ".py",
   "mimetype": "text/x-python",
   "name": "python",
   "nbconvert_exporter": "python",
   "pygments_lexer": "ipython3",
   "version": "3.9.12"
  }
 },
 "nbformat": 4,
 "nbformat_minor": 5
}
