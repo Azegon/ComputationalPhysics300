{
 "cells": [
  {
   "cell_type": "markdown",
   "id": "e94fee4b-d2d0-4e96-9999-1e9f68f744c9",
   "metadata": {},
   "source": [
    "Tabris Loveless 9/13/2022"
   ]
  },
  {
   "cell_type": "code",
   "execution_count": 130,
   "id": "41f0cdbc-4705-4ef5-ade2-38ea269dc2d9",
   "metadata": {},
   "outputs": [],
   "source": [
    "import numpy as np\n",
    "import math\n",
    "from math import e\n",
    "\n",
    "\n",
    "def rectangle(start, end, parts, choice):\n",
    "    \"\"\"\n",
    "    Rectangle function calculates the rectangle approximation of the integrals of three availble funcitons.\n",
    "    \n",
    "    Arguments\n",
    "    start : float\n",
    "        starting value for for integral\n",
    "    end : float\n",
    "        ending value\n",
    "    parts : int\n",
    "        number of divisions for integral\n",
    "    choice : int\n",
    "        (1 2 or 3) selects which of the three functions\n",
    "            1 : (x^2)-x+1\n",
    "            2 : (x^4)-x\n",
    "            3 : e^(-x^2)\n",
    "    \"\"\"\n",
    "    if choice == 1:\n",
    "        f = lambda x : x**2-x+1\n",
    "        deltax = (end - start) / parts\n",
    "        resultsx = np.linspace(start, end, parts)\n",
    "        resultsy = f(resultsx)\n",
    "    \n",
    "    \n",
    "        area = np.empty([parts], float)\n",
    "        for i in range (parts):\n",
    "            area[i] = resultsy[i]*deltax\n",
    "    \n",
    "        print(sum(area))\n",
    "        \n",
    "    elif choice == 2:\n",
    "        f = lambda x : x**4-x+1\n",
    "        deltax = (end - start) / parts\n",
    "        resultsx = np.linspace(start, end, parts)\n",
    "        resultsy = f(resultsx)\n",
    "    \n",
    "    \n",
    "        area = np.empty([parts], float)\n",
    "        for i in range (parts):\n",
    "            area[i] = resultsy[i]*deltax\n",
    "    \n",
    "        print(sum(area))\n",
    "        \n",
    "    elif choice == 3:\n",
    "        f = lambda x: e**(-x**2)\n",
    "        deltax = (end - start) / parts\n",
    "        resultsx = np.linspace(start, end, parts)\n",
    "        resultsy = f(resultsx)\n",
    "    \n",
    "    \n",
    "        area = np.empty([parts], float)\n",
    "        for i in range (parts):\n",
    "            area[i] = resultsy[i]*deltax\n",
    "    \n",
    "        print(sum(area))\n",
    "    \n",
    "\n",
    "def trapezoid(start, end, parts, choice):\n",
    "    \"\"\"\n",
    "    Trapezoid function calculates the Trapezoid approximation of the integrals of three availble funcitons.\n",
    "    \n",
    "    Arguments\n",
    "    start : float\n",
    "        starting value for for integral\n",
    "    end : float\n",
    "        ending value\n",
    "    parts : int\n",
    "        number of divisions for integral\n",
    "    choice : int\n",
    "        (1 2 or 3) selects which of the three functions\n",
    "            1 : (x^2)-x+1\n",
    "            2 : (x^4)-x\n",
    "            3 : e^(-x^2)\n",
    "    \"\"\"\n",
    "    if choice == 1:\n",
    "        f = lambda x : x**2-x+1\n",
    "        deltax = (end - start) / parts\n",
    "        resultsx = np.linspace(start, end, parts+1)\n",
    "        resultsy = f(resultsx)\n",
    "    \n",
    "    \n",
    "        area = np.empty([parts], float)\n",
    "        for i in range (parts):\n",
    "            area[i] = (resultsy[i]+resultsy[i+1])*(deltax/2)\n",
    "    \n",
    "        print(sum(area))\n",
    "        \n",
    "    elif choice == 2:\n",
    "        f = lambda x : x**4-x+1\n",
    "        deltax = (end - start) / parts\n",
    "        resultsx = np.linspace(start, end, parts+1)\n",
    "        resultsy = f(resultsx)\n",
    "    \n",
    "    \n",
    "        area = np.empty([parts], float)\n",
    "        for i in range (parts):\n",
    "            area[i] = area[i] = (resultsy[i]+resultsy[i+1])*(deltax/2)\n",
    "    \n",
    "        print(sum(area))\n",
    "        \n",
    "    elif choice == 3:\n",
    "        f = lambda x: e**(-x**2)\n",
    "        deltax = (end - start) / parts\n",
    "        resultsx = np.linspace(start, end, parts+1)\n",
    "        resultsy = f(resultsx)\n",
    "    \n",
    "    \n",
    "        area = np.empty([parts], float)\n",
    "        for i in range (parts):\n",
    "            area[i] = area[i] = (resultsy[i]+resultsy[i+1])*(deltax/2)\n",
    "    \n",
    "        print(sum(area))\n",
    "        \n",
    "def simpsons(start, end, parts, choice):\n",
    "    \"\"\"\n",
    "    Simpsons function calculates the simpson's rule approximation for the integrals of three functions.\n",
    "    \n",
    "    Arguments\n",
    "    start : float\n",
    "        starting value for for integral\n",
    "    end : float\n",
    "        ending value\n",
    "    parts : int\n",
    "        number of divisions for integral\n",
    "    choice : int\n",
    "        (1 2 or 3) selects which of the three functions\n",
    "            1 : (x^2)-x+1\n",
    "            2 : (x^4)-x\n",
    "            3 : e^(-x^2)\n",
    "    \"\"\"\n",
    "    \n",
    "    if choice == 1:\n",
    "        f = lambda x : x**2-x+1\n",
    "        deltax = (end - start)/parts\n",
    "\n",
    "        integral = f(start) + f(end)\n",
    "    \n",
    "        for i in range (1,parts):\n",
    "            step = start + i*deltax\n",
    "        \n",
    "            if i%2 == 0:\n",
    "                integral = integral + 2*f(step)\n",
    "            \n",
    "            else:\n",
    "                integral = integral + 4*f(step)\n",
    "            \n",
    "        integral = integral*(deltax/3)\n",
    "    \n",
    "        print(integral)\n",
    "        \n",
    "    elif choice == 2:\n",
    "        f = lambda x : x**4-x+1\n",
    "        deltax = (end - start)/parts\n",
    "\n",
    "        integral = f(start) + f(end)\n",
    "    \n",
    "        for i in range (1,parts):\n",
    "            step = start + i*deltax\n",
    "        \n",
    "            if i%2 == 0:\n",
    "                integral = integral + 2*f(step)\n",
    "            \n",
    "            else:\n",
    "                integral = integral + 4*f(step)\n",
    "            \n",
    "        integral = integral*(deltax/3)\n",
    "        \n",
    "        print(integral)\n",
    "        \n",
    "    elif choice == 3:\n",
    "        f = lambda x: e**(-x**2)\n",
    "        deltax = (end - start)/parts\n",
    "\n",
    "        integral = f(start) + f(end)\n",
    "    \n",
    "        for i in range (1,parts):\n",
    "            step = start + i*deltax\n",
    "        \n",
    "            if i%2 == 0:\n",
    "                integral = integral + 2*f(step)\n",
    "            \n",
    "            else:\n",
    "                integral = integral + 4*f(step)\n",
    "            \n",
    "        integral = integral*(deltax/3)\n",
    "        \n",
    "        print(integral)"
   ]
  },
  {
   "cell_type": "code",
   "execution_count": 121,
   "id": "4923905a-50c4-4469-87d0-d5005e432ea9",
   "metadata": {},
   "outputs": [
    {
     "name": "stdout",
     "output_type": "stream",
     "text": [
      "7.545454545454545\n"
     ]
    }
   ],
   "source": [
    "rectangle(0,3,100,1)"
   ]
  },
  {
   "cell_type": "code",
   "execution_count": 122,
   "id": "e7458548-74f0-4d96-99c3-32857ba1e2a9",
   "metadata": {},
   "outputs": [
    {
     "name": "stdout",
     "output_type": "stream",
     "text": [
      "47.83718173470238\n"
     ]
    }
   ],
   "source": [
    "rectangle(0,3,100,2)"
   ]
  },
  {
   "cell_type": "code",
   "execution_count": 123,
   "id": "718b07c0-af3c-4165-9ea5-f37632c2cb90",
   "metadata": {},
   "outputs": [
    {
     "name": "stdout",
     "output_type": "stream",
     "text": [
      "0.892347069854365\n"
     ]
    }
   ],
   "source": [
    "rectangle(0,3,100,3)"
   ]
  },
  {
   "cell_type": "code",
   "execution_count": 124,
   "id": "af9173f5-37b7-4879-926a-5f1a6ebda3ec",
   "metadata": {},
   "outputs": [
    {
     "name": "stdout",
     "output_type": "stream",
     "text": [
      "7.500450000000001\n"
     ]
    }
   ],
   "source": [
    "trapezoid(0,3,100,1)"
   ]
  },
  {
   "cell_type": "code",
   "execution_count": 125,
   "id": "d03a4135-7478-4b7f-8a2e-bb7f0e25fb9c",
   "metadata": {},
   "outputs": [
    {
     "name": "stdout",
     "output_type": "stream",
     "text": [
      "47.108099919\n"
     ]
    }
   ],
   "source": [
    "trapezoid(0,3,100,2)"
   ]
  },
  {
   "cell_type": "code",
   "execution_count": 126,
   "id": "c53c94e9-13fa-405b-9e28-ffc5386223fc",
   "metadata": {},
   "outputs": [
    {
     "name": "stdout",
     "output_type": "stream",
     "text": [
      "0.8862072927500886\n"
     ]
    }
   ],
   "source": [
    "trapezoid(0,3,100,3)"
   ]
  },
  {
   "cell_type": "code",
   "execution_count": 135,
   "id": "1d708547-bf94-4703-a33f-991143560ea3",
   "metadata": {},
   "outputs": [
    {
     "name": "stdout",
     "output_type": "stream",
     "text": [
      "7.499999999999999\n"
     ]
    }
   ],
   "source": [
    "simpsons(0,3,10,1)"
   ]
  },
  {
   "cell_type": "code",
   "execution_count": 136,
   "id": "166751e5-3b62-4378-aa63-e5287009b94b",
   "metadata": {},
   "outputs": [
    {
     "name": "stdout",
     "output_type": "stream",
     "text": [
      "47.10323999999999\n"
     ]
    }
   ],
   "source": [
    "simpsons(0,3,10,2)"
   ]
  },
  {
   "cell_type": "code",
   "execution_count": 137,
   "id": "962ac9a6-b75a-4c88-8e5a-e68b7b17362d",
   "metadata": {},
   "outputs": [
    {
     "name": "stdout",
     "output_type": "stream",
     "text": [
      "0.8862065522460075\n"
     ]
    }
   ],
   "source": [
    "simpsons(0,3,10,3)"
   ]
  }
 ],
 "metadata": {
  "kernelspec": {
   "display_name": "Python 3 (ipykernel)",
   "language": "python",
   "name": "python3"
  },
  "language_info": {
   "codemirror_mode": {
    "name": "ipython",
    "version": 3
   },
   "file_extension": ".py",
   "mimetype": "text/x-python",
   "name": "python",
   "nbconvert_exporter": "python",
   "pygments_lexer": "ipython3",
   "version": "3.9.12"
  }
 },
 "nbformat": 4,
 "nbformat_minor": 5
}
