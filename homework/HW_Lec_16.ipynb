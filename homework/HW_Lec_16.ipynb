{
 "cells": [
  {
   "cell_type": "markdown",
   "id": "24848f2f-54bf-48fe-9c0d-27252ae0e464",
   "metadata": {},
   "source": [
    "Tabris Loveless\n",
    "10/24/22"
   ]
  },
  {
   "cell_type": "code",
   "execution_count": 65,
   "id": "73a195dc-dbac-4794-915c-41d9e563a79d",
   "metadata": {},
   "outputs": [
    {
     "name": "stdout",
     "output_type": "stream",
     "text": [
      "[ 1.03949937 -2.14486083] 2.6311508330267226\n"
     ]
    }
   ],
   "source": [
    "import numpy as np\n",
    "import matplotlib.pyplot as plt\n",
    "\n",
    "def init(x_min, x_max, y_min, y_max):\n",
    "    x0 = x_min+np.random.random()*(x_max-x_min)\n",
    "    y0 = y_min+np.random.random()*(y_max-y_min)\n",
    "    return [x0, y0]\n",
    "\n",
    "def derivative2d(f, xy, d = 0.001):\n",
    "    x, y, = xy[0], xy[1]\n",
    "    fx = (f([x+d/2,y])-f([x-d/2,y/d]))/d\n",
    "    fy = (f([x,y+d/2])-f([x,y-d/2]))/d\n",
    "    return np.array([fx,fy])\n",
    "\n",
    "def varMin(f, x0, n =1000):\n",
    "    \"\"\"\n",
    "    Finds function minimum of two dimentional function\n",
    "    \n",
    "    Args:\n",
    "    F:\n",
    "        function for minization\n",
    "    x0: 1*2 array\n",
    "       starting point\n",
    "    n:\n",
    "        Number of iterations\n",
    "    \"\"\"\n",
    "    x_cur = x0\n",
    "    x_prev = None\n",
    "    converged = False\n",
    "    x_hist = []\n",
    "    x_hist.append(x_cur)\n",
    "    \n",
    "    for i in range(n):\n",
    "        df_cur = derivative2d(f, x_cur)\n",
    "        \n",
    "        if x_prev is None:\n",
    "            dx = 0.01\n",
    "        else:\n",
    "            prevdf = derivative2d(f, prevx)\n",
    "            dd = df_cur  - df_prev\n",
    "            dx = np.dot(x_cur - x_prev, dd) / np.lialg.norm(dd)**2\n",
    "            \n",
    "        x_next = x_cur - df_cur*dx\n",
    "        \n",
    "        if f(x_next)>f(x_cur):\n",
    "            converged = True \n",
    "            break\n",
    "        else:\n",
    "            x_prev = x_cur\n",
    "            x_cur = x_next\n",
    "            x_hist.append(x_cur)\n",
    "\n",
    "    return converged, np.array(x_hist), f(x_cur);\n",
    "    \n",
    "def f(x): #complex function with 2 minimum\n",
    "    return x[0]**2/2 + x[1]**2/3 - x[0]*x[1]/4\n",
    "\n",
    "[x0,y0] = init(-4, 4, -4, 4)\n",
    "converged, x_hist, fmin = varMin(f, [x0,y0])\n",
    "\n",
    "print(x_hist[-1], f(x_hist[-1]))\n"
   ]
  },
  {
   "cell_type": "code",
   "execution_count": 68,
   "id": "a5e9120d-1591-4e82-8fc9-0e2e96eaefbf",
   "metadata": {},
   "outputs": [
    {
     "name": "stdout",
     "output_type": "stream",
     "text": [
      "Optimization terminated successfully.\n",
      "         Current function value: 0.000000\n",
      "         Iterations: 4\n",
      "         Function evaluations: 15\n",
      "         Gradient evaluations: 5\n"
     ]
    }
   ],
   "source": [
    "from scipy.optimize import minimize\n",
    "[x0,y0] = init(-4, 4, -4, 4)\n",
    "res = minimize(f, [x0,y0], method = 'BFGS', tol = 1e-4, options={'disp': True})"
   ]
  }
 ],
 "metadata": {
  "kernelspec": {
   "display_name": "Python 3 (ipykernel)",
   "language": "python",
   "name": "python3"
  },
  "language_info": {
   "codemirror_mode": {
    "name": "ipython",
    "version": 3
   },
   "file_extension": ".py",
   "mimetype": "text/x-python",
   "name": "python",
   "nbconvert_exporter": "python",
   "pygments_lexer": "ipython3",
   "version": "3.9.12"
  }
 },
 "nbformat": 4,
 "nbformat_minor": 5
}
