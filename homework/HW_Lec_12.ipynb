{
 "cells": [
  {
   "cell_type": "markdown",
   "id": "c7d3d273-4988-46f6-83f5-c57706234bad",
   "metadata": {},
   "source": [
    "Tabris Loveless\n",
    "10/8/22"
   ]
  },
  {
   "cell_type": "code",
   "execution_count": 5,
   "id": "ffb0e5bc-90a0-4465-b2c1-97adabb77af9",
   "metadata": {},
   "outputs": [
    {
     "name": "stdout",
     "output_type": "stream",
     "text": [
      "0.8389207056316016\n"
     ]
    }
   ],
   "source": [
    "import numpy as np\n",
    "import matplotlib.pyplot as plt\n",
    "from random import random\n",
    "import scipy.integrate as integrate\n",
    "\n",
    "def IMC(f, w, invW,  N):\n",
    "    \"\"\"\n",
    "    Calculates the importance Monte Carlo of a funciton\n",
    "    \n",
    "    Args\n",
    "    f:\n",
    "        function for integration\n",
    "    w:\n",
    "        weighted function for importance\n",
    "    invW:\n",
    "        inverse function for integration\n",
    "    N: int\n",
    "        number of iterations for integral\n",
    "    \"\"\"\n",
    "    const = integrate.quad(w, 0, 1)[0]\n",
    "    i = 0\n",
    "    for k in range(N):\n",
    "        x = random()\n",
    "        y = invW(x)\n",
    "        i += f(y)/w(y)\n",
    "    #calculated importance integral I/number*integral of w\n",
    "    return (i/N)*const\n",
    "\n",
    "#homework function\n",
    "f = lambda x: 1/np.sqrt(x)/(np.exp(x)+1)\n",
    "#importance functions\n",
    "w = lambda x: 1/np.sqrt(x)\n",
    "invF = lambda x: x**2\n",
    "\n",
    "print(IMC(f, w, invF, 1000000))"
   ]
  },
  {
   "cell_type": "code",
   "execution_count": 6,
   "id": "1056d38f-f126-42fc-85c9-1be7a8b807ba",
   "metadata": {},
   "outputs": [
    {
     "name": "stderr",
     "output_type": "stream",
     "text": [
      "C:\\Users\\Danny\\AppData\\Local\\Temp\\ipykernel_51112\\1284339758.py:20: IntegrationWarning: The maximum number of subdivisions (50) has been achieved.\n",
      "  If increasing the limit yields no improvement it is advised to analyze \n",
      "  the integrand in order to determine the difficulties.  If the position of a \n",
      "  local difficulty can be determined (singularity, discontinuity) one will \n",
      "  probably gain from splitting up the interval and calling the integrator \n",
      "  on the subranges.  Perhaps a special-purpose integrator should be used.\n",
      "  const = integrate.quad(w, 0, 1)[0]\n",
      "C:\\Users\\Danny\\AppData\\Local\\Temp\\ipykernel_51112\\1284339758.py:30: RuntimeWarning: overflow encountered in exp\n",
      "  f = lambda x: 1/np.sqrt(x)/(np.exp(x)+1)\n"
     ]
    },
    {
     "name": "stdout",
     "output_type": "stream",
     "text": [
      "6.026091346440388\n"
     ]
    }
   ],
   "source": [
    "w = lambda x: 1/x\n",
    "#p(x) = w(x)/integral of w(x) 0,1 = 1/xln(x)\n",
    "#1/p = xln(b-a)\n",
    "#1/pln(b-a) = x this gives a div by 0 error\n",
    "invf = lambda x: \n",
    "print(IMC(f, w,invf, 1000000))"
   ]
  },
  {
   "cell_type": "code",
   "execution_count": null,
   "id": "3e86e711-6788-4bc2-bb36-4f87006f134a",
   "metadata": {},
   "outputs": [],
   "source": []
  }
 ],
 "metadata": {
  "kernelspec": {
   "display_name": "Python 3 (ipykernel)",
   "language": "python",
   "name": "python3"
  },
  "language_info": {
   "codemirror_mode": {
    "name": "ipython",
    "version": 3
   },
   "file_extension": ".py",
   "mimetype": "text/x-python",
   "name": "python",
   "nbconvert_exporter": "python",
   "pygments_lexer": "ipython3",
   "version": "3.9.12"
  }
 },
 "nbformat": 4,
 "nbformat_minor": 5
}
