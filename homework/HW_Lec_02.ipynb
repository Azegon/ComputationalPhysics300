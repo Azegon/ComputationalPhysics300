{
 "cells": [
  {
   "cell_type": "markdown",
   "id": "95306238-a851-4494-a30f-f129fd2acf92",
   "metadata": {},
   "source": [
    "Proof of Einstein Model of a Solid \n",
    "\n",
    " $$\\Omega(N, q) = \\binom{q+N-1}{q}$$\n",
    "\n",
    "einsteins proof\n",
    "0 represnts energy units, | seperates oscillators.\n",
    "\n",
    "0|000||0000\n",
    "\n",
    "q = 8, N = 4, with q+n-1 symbols \n",
    "\n",
    "Which means there is (q+n-1) ways to arrange the 0 and |.\n",
    "\n",
    "With q number of dots, from q+n-1 arangements we want q of them to be choosen.\n",
    "\n",
    "which gives  $$\\Omega(N, q) = \\binom{q+N-1}{q}$$\n"
   ]
  },
  {
   "cell_type": "code",
   "execution_count": 10,
   "id": "f5c71005-b812-4e29-aef3-b8d181d1fd11",
   "metadata": {},
   "outputs": [
    {
     "name": "stdin",
     "output_type": "stream",
     "text": [
      "Enter number of oscillators:  6\n",
      "Enter total energy of system:  3\n"
     ]
    },
    {
     "name": "stdout",
     "output_type": "stream",
     "text": [
      "When the total energy is 3 For 6 of atoms, Omega is 56\n"
     ]
    },
    {
     "name": "stdin",
     "output_type": "stream",
     "text": [
      "Calculate again? (Y or N)  Y\n",
      "Enter number of oscillators:  2\n",
      "Enter total energy of system:  1\n"
     ]
    },
    {
     "name": "stdout",
     "output_type": "stream",
     "text": [
      "When the total energy is 1 For 2 of atoms, Omega is 2\n"
     ]
    },
    {
     "name": "stdin",
     "output_type": "stream",
     "text": [
      "Calculate again? (Y or N)  N\n"
     ]
    }
   ],
   "source": [
    "# calculate omega for given atoms and energy state\n",
    "# math used for factorial function\n",
    "import math\n",
    "\n",
    "\n",
    "# einstein function\n",
    "def einstein(n, q):\n",
    "    fact = math.factorial(q)\n",
    "    omega = int((math.factorial(q + n - 1)) / (fact* math.factorial(n - 1)))\n",
    "    return omega\n",
    "\n",
    "\n",
    "#calculation loop\n",
    "fin = \"Y\"\n",
    "while fin == \"Y\":\n",
    "    #user inputs\n",
    "    n = int(input(\"Enter number of oscillators: \"))\n",
    "    q = int(input(\"Enter total energy of system: \"))\n",
    "\n",
    "    # function call\n",
    "    print(\"When the total energy is\", q, \"For\", n, \"of atoms, Omega is\", einstein(n, q))\n",
    "    #exit condition\n",
    "    fin = input(\"Calculate again? (Y or N) \")\n",
    "\n",
    "\n"
   ]
  },
  {
   "cell_type": "code",
   "execution_count": null,
   "id": "cb80938f-db0c-4815-9b10-6d6e50a32248",
   "metadata": {},
   "outputs": [],
   "source": []
  }
 ],
 "metadata": {
  "kernelspec": {
   "display_name": "Python 3 (ipykernel)",
   "language": "python",
   "name": "python3"
  },
  "language_info": {
   "codemirror_mode": {
    "name": "ipython",
    "version": 3
   },
   "file_extension": ".py",
   "mimetype": "text/x-python",
   "name": "python",
   "nbconvert_exporter": "python",
   "pygments_lexer": "ipython3",
   "version": "3.9.12"
  }
 },
 "nbformat": 4,
 "nbformat_minor": 5
}
