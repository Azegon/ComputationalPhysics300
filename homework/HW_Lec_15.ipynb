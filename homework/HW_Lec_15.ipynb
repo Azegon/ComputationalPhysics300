{
 "cells": [
  {
   "cell_type": "markdown",
   "id": "4a047d0e-c2de-4979-b364-5351f43b2daf",
   "metadata": {},
   "source": [
    "Monte Carlo minimum\n",
    "do standard monte carlo but try to find the minimum function value that appears\n",
    "\n",
    "preform standard loop, and store lowest value of function instead of calculating the integral"
   ]
  },
  {
   "cell_type": "code",
   "execution_count": 49,
   "id": "bc335102-ff94-4fda-a477-dc1a2aad3ef3",
   "metadata": {},
   "outputs": [],
   "source": [
    "import numpy as np\n",
    "import matplotlib.pyplot as plt\n",
    "\n",
    "def MCmin1d(f, start, end, n):\n",
    "    \"\"\"\n",
    "    Function uses monte carlo methods to find the minimum value of a 1D function along an interval.\n",
    "    \n",
    "    Args:\n",
    "    f \n",
    "        function\n",
    "    start: float\n",
    "        starting value of interval\n",
    "    end: float\n",
    "        ending value of interval\n",
    "    n int:\n",
    "        number of iterations\n",
    "    \"\"\"\n",
    "    \n",
    "    #can't set to zero\n",
    "    ymin = f(end)\n",
    "    xmin = end\n",
    "    #used for getting random values inbetween start and end by multiplying it by random.random\n",
    "    #if 1 if given by random random you get end, and 0 gives start.\n",
    "    delta = end - start\n",
    "    for i in range(n):\n",
    "        #gives range from start value to \n",
    "        randx = start + (delta*np.random.random())\n",
    "        if f(randx) < ymin:\n",
    "            ymin = f(randx)\n",
    "            xmin = randx\n",
    "    return [xmin, ymin]"
   ]
  },
  {
   "cell_type": "code",
   "execution_count": 54,
   "id": "7e62f000-c438-40f9-9313-e81354e72eb0",
   "metadata": {},
   "outputs": [
    {
     "name": "stdout",
     "output_type": "stream",
     "text": [
      "[1.2745757807525786, 4.6844352718487094]\n"
     ]
    }
   ],
   "source": [
    "f = lambda x: (4*x**3)-(10*x**2)+(6*x)+5\n",
    "print(MCmin1d(f, 0, 8, 10000))\n",
    "#real min is (1.274, 4.684) using desmos"
   ]
  },
  {
   "cell_type": "code",
   "execution_count": 56,
   "id": "264bf79c-e446-4ebd-ad9b-0621b7abf89c",
   "metadata": {},
   "outputs": [],
   "source": [
    "def MCmin2d(f, x1, x2, y1, y2, n):\n",
    "    \"\"\"\n",
    "    Function to calculate the minimum value of an interval for a 2d function\n",
    "    \n",
    "    Args:\n",
    "    f:\n",
    "        function for calculation\n",
    "    x1, x2 float:\n",
    "        x-axis start and end of interval\n",
    "    y1, y2, float:\n",
    "        y-axis start and end of interval\n",
    "    \"\"\"\n",
    "    Zmin = f(x2, y2)\n",
    "    xmin = x2\n",
    "    ymin = y2\n",
    "    #used for getting random values inbetween start and end by multiplying it by random.random\n",
    "    #if 1 if given by random random you get end, and 0 gives start.\n",
    "    deltax = x2 - x1\n",
    "    deltay = y2 - y1\n",
    "    for i in range(n):\n",
    "        #gives range from start value to \n",
    "        randx = x1 + (deltax*np.random.random())\n",
    "        randy = y1 + (deltay*np.random.random())\n",
    "        if f(randx, randy) < ymin:\n",
    "            zmin = f(randx, randy)\n",
    "            xmin = randx\n",
    "            ymin = randy\n",
    "    return [xmin, ymin, zmin]"
   ]
  },
  {
   "cell_type": "code",
   "execution_count": 101,
   "id": "dccaf8fb-7708-4067-9975-a911ea0c3cdc",
   "metadata": {},
   "outputs": [
    {
     "name": "stdout",
     "output_type": "stream",
     "text": [
      "[-0.5091176405565703, 0.3612013328818051, 3.0842065224462734]\n"
     ]
    }
   ],
   "source": [
    "g = lambda x, y: x**4 + y**4 + 3\n",
    "#min value is 3\n",
    "print(MCmin2d(g, -4, 4, -4, 4, 1000000))\n"
   ]
  },
  {
   "cell_type": "markdown",
   "id": "1d2189e0-9478-4176-a279-cafdeb7fe770",
   "metadata": {},
   "source": [
    "gradient decent if time avalible\n"
   ]
  }
 ],
 "metadata": {
  "kernelspec": {
   "display_name": "Python 3 (ipykernel)",
   "language": "python",
   "name": "python3"
  },
  "language_info": {
   "codemirror_mode": {
    "name": "ipython",
    "version": 3
   },
   "file_extension": ".py",
   "mimetype": "text/x-python",
   "name": "python",
   "nbconvert_exporter": "python",
   "pygments_lexer": "ipython3",
   "version": "3.9.12"
  }
 },
 "nbformat": 4,
 "nbformat_minor": 5
}
