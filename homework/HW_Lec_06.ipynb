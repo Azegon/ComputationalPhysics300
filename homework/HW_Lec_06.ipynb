{
 "cells": [
  {
   "cell_type": "markdown",
   "id": "4cbbddc6-6a6a-4733-9bf5-806d9860b256",
   "metadata": {},
   "source": [
    "Tabris Loveless\n",
    "9/16/2022"
   ]
  },
  {
   "cell_type": "code",
   "execution_count": 1,
   "id": "ba1ddb8d-4973-4e08-a507-362e64103d6d",
   "metadata": {},
   "outputs": [],
   "source": [
    "import matplotlib.ticker as mtick\n",
    "import matplotlib.pyplot as plt\n",
    "import math\n",
    "from math import e\n",
    "import numpy as np\n",
    "\n",
    "def simpsons(f,start, end, parts):\n",
    "    \"\"\"\n",
    "    Simpsons function calculates the simpson's rule approximation for the integrals of three functions.\n",
    "    Modified from HW 5 to work with a given function.\n",
    "    \n",
    "    Arguments\n",
    "    f: lambda\n",
    "        function for integral\n",
    "    start : float\n",
    "        starting value for for integral\n",
    "    end : float\n",
    "        ending value\n",
    "    parts : int\n",
    "        number of divisions for integral\n",
    "    \"\"\"\n",
    "    \n",
    "    deltax = (end - start)/parts\n",
    "    #to fix the div by zero issue assigned f(start) to 0\n",
    "    integral = 0 + f(end)\n",
    "    \n",
    "    for i in range (1,parts):\n",
    "        step = start + i*deltax\n",
    "        \n",
    "        if i%2 == 0:\n",
    "            integral = integral + 2*f(step)\n",
    "            \n",
    "        else:\n",
    "            integral = integral + 4*f(step)\n",
    "            \n",
    "    integral = integral*(deltax/3)\n",
    "    \n",
    "    return integral\n",
    "    \n",
    "    \n",
    "def plotcv(start, end):\n",
    "    \"\"\"\n",
    "    Plots Cv of an Aluminum block with volume of 1000cm^3\n",
    "    \n",
    "    Args\n",
    "        Start: Float\n",
    "        starting value in kelvin for plot\n",
    "        End: Float\n",
    "        ending value in kelvin\n",
    "        parts: int\n",
    "        Resolution of plot\n",
    "    \"\"\"\n",
    "    \n",
    "    #integral portion of CV formula\n",
    "    f = lambda x: ((x**4)*(e**x))/(((e**x)-1)**2)\n",
    "    volume = 0.001\n",
    "    roe = 6.022e28\n",
    "    boltzmann = 1.380649*(10**-23)\n",
    "    debye = 428 \n",
    "    \n",
    "    t_list = range(start, end)\n",
    "    cv = []\n",
    "    \n",
    "    for t in t_list:\n",
    "        #calulate integral portion then multiply by other half of equation\n",
    "        #not sure how to fix the divide by zero issue,\n",
    "        t_integral = simpsons(f, 0, debye/t, 15)\n",
    "        cv.append(9*volume*roe*boltzmann*((t/debye)**3)*t_integral)\n",
    "    \n",
    "    plt.plot(t_list, cv)\n",
    "    plt.title('Cv of Aluminum')\n",
    "    plt.xlabel('T')\n",
    "    plt.ylabel('Cv')\n",
    "\n",
    "    plt.show\n",
    "    "
   ]
  },
  {
   "cell_type": "code",
   "execution_count": 2,
   "id": "9769b552-d599-47a0-b708-2d2772ca0f03",
   "metadata": {},
   "outputs": [
    {
     "data": {
      "image/png": "[encoded data removed]",
      "text/plain": [
       "<Figure size 432x288 with 1 Axes>"
      ]
     },
     "metadata": {
      "needs_background": "light"
     },
     "output_type": "display_data"
    }
   ],
   "source": [
    "plotcv(5,500)"
   ]
  },
  {
   "cell_type": "code",
   "execution_count": null,
   "id": "b6690898-c564-41c2-b1e6-7551e0d5088c",
   "metadata": {},
   "outputs": [],
   "source": []
  }
 ],
 "metadata": {
  "kernelspec": {
   "display_name": "Python 3 (ipykernel)",
   "language": "python",
   "name": "python3"
  },
  "language_info": {
   "codemirror_mode": {
    "name": "ipython",
    "version": 3
   },
   "file_extension": ".py",
   "mimetype": "text/x-python",
   "name": "python",
   "nbconvert_exporter": "python",
   "pygments_lexer": "ipython3",
   "version": "3.9.12"
  }
 },
 "nbformat": 4,
 "nbformat_minor": 5
}
