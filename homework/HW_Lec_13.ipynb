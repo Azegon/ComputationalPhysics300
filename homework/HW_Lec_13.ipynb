{
 "cells": [
  {
   "cell_type": "markdown",
   "id": "456d6397-e619-4852-91e9-53755b6d25c5",
   "metadata": {},
   "source": [
    "Tabris Loveless\n",
    "10/11/22"
   ]
  },
  {
   "cell_type": "code",
   "execution_count": 7,
   "id": "d36e9e8b-9765-4fb0-aa52-a2482eb2e4f2",
   "metadata": {},
   "outputs": [
    {
     "name": "stdout",
     "output_type": "stream",
     "text": [
      "[3 4]\n"
     ]
    }
   ],
   "source": [
    "import numpy as np\n",
    "\n",
    "def diceroll():\n",
    "    print(np.random.randint(1,6,2))\n",
    "\n",
    "diceroll()"
   ]
  },
  {
   "cell_type": "code",
   "execution_count": 35,
   "id": "e0b8ab27-235e-4dda-b135-c4cc6b4cd60d",
   "metadata": {},
   "outputs": [
    {
     "name": "stdout",
     "output_type": "stream",
     "text": [
      "probabilty of rolling two sixes:  0.02765\n"
     ]
    }
   ],
   "source": [
    "def modDR(n):\n",
    "    count = 0\n",
    "    for i in range(n):\n",
    "        #1-6 didn't roll 6, 1-7 does\n",
    "        roll = np.random.randint(1,7,2)\n",
    "        if roll[0]+roll[1] == 12:\n",
    "            count += 1\n",
    "    print('probabilty of rolling two sixes: ', (count/n))\n",
    "\n",
    "modDR(1000000)"
   ]
  },
  {
   "cell_type": "code",
   "execution_count": 22,
   "id": "73c7b824-dad4-4729-a7c5-3b5b367cf4fd",
   "metadata": {},
   "outputs": [
    {
     "name": "stdout",
     "output_type": "stream",
     "text": [
      "[3, 5, 1, 3, 5, 1, 3, 5, 1, 3]\n"
     ]
    }
   ],
   "source": [
    "def unirand(n):\n",
    "    a = 121\n",
    "    c = 2\n",
    "    m = 6\n",
    "    x = 1\n",
    "    results = []\n",
    "    \n",
    "    for i in range(n):\n",
    "        x = (a*x+c)%m\n",
    "        results.append(x)\n",
    "\n",
    "    return results\n",
    "\n",
    "print(unirand(10))"
   ]
  },
  {
   "cell_type": "code",
   "execution_count": null,
   "id": "d245eb31-c7bf-4efd-a4c3-a1595ba1ee1c",
   "metadata": {},
   "outputs": [],
   "source": []
  }
 ],
 "metadata": {
  "kernelspec": {
   "display_name": "Python 3 (ipykernel)",
   "language": "python",
   "name": "python3"
  },
  "language_info": {
   "codemirror_mode": {
    "name": "ipython",
    "version": 3
   },
   "file_extension": ".py",
   "mimetype": "text/x-python",
   "name": "python",
   "nbconvert_exporter": "python",
   "pygments_lexer": "ipython3",
   "version": "3.9.12"
  }
 },
 "nbformat": 4,
 "nbformat_minor": 5
}
