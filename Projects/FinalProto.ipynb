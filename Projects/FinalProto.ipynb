{
 "cells": [
  {
   "cell_type": "markdown",
   "id": "26eaa8ba-9906-46c7-b2b1-c6a862ea8b23",
   "metadata": {},
   "source": [
    "Tabris Loveless\n",
    "11/9/22"
   ]
  },
  {
   "cell_type": "code",
   "execution_count": 16,
   "id": "3ef95d01-954e-43a8-8326-6a5e8f970ed6",
   "metadata": {},
   "outputs": [],
   "source": [
    "import numpy as np\n",
    "import matplotlib.pyplot as plt\n",
    "from numba import jit\n",
    "import time\n",
    "\n",
    "class particle:\n",
    "    \"\"\"\n",
    "    Particle class used to store position and given mass/charge ect\n",
    "    \n",
    "    variables:\n",
    "    position [x,y]:\n",
    "        x and y position of particle\n",
    "    \n",
    "    mass float:\n",
    "        given mass of particle (kilograms)\n",
    "    charge float:\n",
    "        charge of particle (coloumbs)\n",
    "    \"\"\"\n",
    "    position  = [0,0]\n",
    "    mass = 0\n",
    "    charge = 0\n",
    "\n",
    "@jit\n",
    "def force(dist, p1, p2, context = 'LJ'):\n",
    "    \"\"\"\n",
    "    force magnitude for given p1 and p2\n",
    "    Args:\n",
    "    dist float: \n",
    "        script r magnitude of two particles\n",
    "    p1 float:\n",
    "        mass or charge of particle 1\n",
    "    p2 float: \n",
    "        mass or charge of particle 2\n",
    "    context string (gravity, electric, LJ):\n",
    "        type of force on particle, p1 and p2 need to be correct type\n",
    "        Gravity needs mass\n",
    "        Electrostatic needs charge\n",
    "        LJ does not need given p1 and p2\n",
    "    \"\"\"\n",
    "    if context == gravity:\n",
    "        #use fundimental gravity force\n",
    "        #needed constants\n",
    "        G = 6.6743e-11\n",
    "        return G*((p1*p2)/dist**2)\n",
    "        \n",
    "    elif context == electrostatic:\n",
    "        #fundimental electric field force\n",
    "        #needed constants\n",
    "        k = 1/(4*(3.1459)*(8.54187e-12))\n",
    "        return k*()\n",
    "    elif context == LJ:\n",
    "        #use derivitive of LJ potential\n",
    "        return 4*(6/dist**7-12/dist**13)\n",
    "    \n",
    "    else:\n",
    "        print('ERROR: wrong context given, only gravity, electric, and LJ are allowed currently.')\n",
    "\n",
    "\n",
    "def init_pos(N, xlim, ylim):\n",
    "    \"\"\"\n",
    "    generates a list of N particles in 2d space of range 0 < x < xlim, 0 < y < ylim, of same mass and charge\n",
    "    \"\"\"\n",
    "    p_list= []\n",
    "    for i in range(N):\n",
    "        pos = [xlim*np.random.random(), ylim*np.random.random()]\n",
    "        #change mass and charge here\n",
    "        p = particle()\n",
    "        p.position = pos\n",
    "        p.mass = 1\n",
    "        p.charge = 1\n",
    "        p_list.append(p)\n",
    "\n",
    "    return p_list\n"
   ]
  },
  {
   "cell_type": "code",
   "execution_count": 19,
   "id": "332c667c-ec55-4fe6-b995-3c968945fe13",
   "metadata": {},
   "outputs": [
    {
     "name": "stdout",
     "output_type": "stream",
     "text": [
      "[0.3867288345126544, 0.22580557823790204]\n",
      "[0.2792821560553582, 0.7093768371154416]\n",
      "[0.33687852057431145, 0.23408366543056702]\n",
      "[0.7319638104001948, 0.3571206467669902]\n",
      "[0.24078526349864082, 0.6273801621895685]\n",
      "[0.45218180538034114, 0.18805112555870496]\n",
      "[0.12933740705725572, 0.3211106851325518]\n",
      "[0.30662159159441416, 0.5882298554860294]\n",
      "[0.10307810556970931, 0.8144847268902708]\n",
      "[0.9441554677339994, 0.5283554591976173]\n"
     ]
    }
   ],
   "source": [
    "results = init_pos(10, 1, 1)\n",
    "for i in range(len(results)):\n",
    "    print(results[i].position)"
   ]
  },
  {
   "cell_type": "code",
   "execution_count": null,
   "id": "2ffef909-6108-4b8b-830f-84d3e10ec4a7",
   "metadata": {},
   "outputs": [],
   "source": []
  }
 ],
 "metadata": {
  "kernelspec": {
   "display_name": "Python 3 (ipykernel)",
   "language": "python",
   "name": "python3"
  },
  "language_info": {
   "codemirror_mode": {
    "name": "ipython",
    "version": 3
   },
   "file_extension": ".py",
   "mimetype": "text/x-python",
   "name": "python",
   "nbconvert_exporter": "python",
   "pygments_lexer": "ipython3",
   "version": "3.9.12"
  }
 },
 "nbformat": 4,
 "nbformat_minor": 5
}
