{
 "cells": [
  {
   "cell_type": "markdown",
   "id": "26eaa8ba-9906-46c7-b2b1-c6a862ea8b23",
   "metadata": {},
   "source": [
    "Tabris Loveless\n",
    "11/9/22"
   ]
  },
  {
   "cell_type": "code",
   "execution_count": 50,
   "id": "3ef95d01-954e-43a8-8326-6a5e8f970ed6",
   "metadata": {},
   "outputs": [],
   "source": [
    "import numpy as np\n",
    "import matplotlib.pyplot as plt\n",
    "from numba import jit\n",
    "import time\n",
    "\n",
    "class particle:\n",
    "    \"\"\"\n",
    "    Particle class used to store position and given mass/charge ect\n",
    "    \n",
    "    variables:\n",
    "    position [x,y]:\n",
    "        x and y position of particle\n",
    "    \n",
    "    mass float:\n",
    "        given mass of particle (kilograms)\n",
    "    charge float:\n",
    "        charge of particle (coloumbs)\n",
    "    \"\"\"\n",
    "    position  = [0,0]\n",
    "    mass = 0\n",
    "    charge = 0\n",
    "    #look at adding acceleration vector to class\n",
    "\n",
    "def force(dist, p1, p2, context = 'LJ'):\n",
    "    \"\"\"\n",
    "    force magnitude for given p1 and p2\n",
    "    Args:\n",
    "    dist float: \n",
    "        script r magnitude of two particles\n",
    "    p1 float:\n",
    "        mass or charge of particle 1\n",
    "    p2 float: \n",
    "        mass or charge of particle 2\n",
    "    context string (gravity, electric, LJ):\n",
    "        type of force on particle, p1 and p2 need to be correct type\n",
    "        Gravity needs mass\n",
    "        Electrostatic needs charge\n",
    "        LJ does not need given p1 and p2\n",
    "    \"\"\"\n",
    "    if context == 'gravity':\n",
    "        #use fundimental gravity force\n",
    "        #needed constants\n",
    "        G = 6.6743e-11\n",
    "        return G*((p1*p2)/dist**2)\n",
    "        \n",
    "    elif context == 'electric':\n",
    "        #fundimental electric field force\n",
    "        #needed constants\n",
    "        k = 1/(4*(3.1459)*(8.54187e-12))\n",
    "        return k*()\n",
    "    elif context == 'LJ':\n",
    "        #use derivitive of LJ potential\n",
    "        #return 4*(6/dist**7-12/dist**13)\n",
    "        return 4*((1/dist**6)-(1/dist**12))\n",
    "    else:\n",
    "        print('ERROR: wrong context given, only gravity, electric, and LJ are allowed currently.')\n",
    "\n",
    "def init_pos(N, xlim, ylim):\n",
    "    \"\"\"\n",
    "    generates a list of N particles in 2d space of range 0 < x < xlim, 0 < y < ylim, of same mass and charge\n",
    "    \"\"\"\n",
    "    p_list= []\n",
    "    for i in range(N):\n",
    "        pos = [xlim*np.random.random(), ylim*np.random.random()]\n",
    "        #change mass and charge here\n",
    "        p = particle()\n",
    "        p.position = pos\n",
    "        p.mass = 1\n",
    "        p.charge = 1\n",
    "        p_list.append(p)\n",
    "\n",
    "    return p_list\n"
   ]
  },
  {
   "cell_type": "code",
   "execution_count": 51,
   "id": "332c667c-ec55-4fe6-b995-3c968945fe13",
   "metadata": {},
   "outputs": [
    {
     "name": "stdout",
     "output_type": "stream",
     "text": [
      "[0.6055135371103257, 0.5026586716603273]\n",
      "[0.04819323434625178, 0.4153933761933003]\n",
      "[0.8242870585756965, 0.750068497666208]\n",
      "[0.8867509757864691, 0.05943921229342897]\n",
      "[0.3466105480205304, 0.6399241874570492]\n",
      "[0.8839513947877062, 0.6884193296999587]\n",
      "[0.9595644928885074, 0.1674905521630311]\n",
      "[0.01353577188412669, 0.6789738988002703]\n",
      "[0.42997336433307887, 0.7616782686572228]\n",
      "[0.2726846640112225, 0.9914161338570144]\n"
     ]
    }
   ],
   "source": [
    "results = init_pos(10, 1, 1)\n",
    "for i in range(len(results)):\n",
    "    print(results[i].position)"
   ]
  },
  {
   "cell_type": "code",
   "execution_count": 52,
   "id": "2ffef909-6108-4b8b-830f-84d3e10ec4a7",
   "metadata": {},
   "outputs": [],
   "source": [
    "def netforce(part_list, context):\n",
    "    #set up same context conditions as force funciton\n",
    "    f_list = []\n",
    "    for i in range(len(part_list)):\n",
    "        f_net = 0\n",
    "        for j in range(len(part_list)):\n",
    "            if j == i:\n",
    "                continue\n",
    "            else:\n",
    "                dist = np.sqrt((part_list[j].position[0] - part_list[i].position[0])**2 + (part_list[j].position[1] - part_list[i].position[1])**2)\n",
    "                f_p = force(dist, part_list[j].mass, part_list[i].mass, context)\n",
    "                f_net += f_p\n",
    "        f_list.append(f_net)\n",
    "\n",
    "    return f_list"
   ]
  },
  {
   "cell_type": "code",
   "execution_count": 54,
   "id": "cd7ff068-ab8c-47bd-afd6-4e27ced2e6cb",
   "metadata": {},
   "outputs": [
    {
     "name": "stdout",
     "output_type": "stream",
     "text": [
      "[2.1607169978113443e-10, 2.432294710404503e-10, 6.272659881033698e-11, 1.3436302002105345e-10, 1.1510153556869612e-10]\n"
     ]
    }
   ],
   "source": [
    "part_list = init_pos(5, 3, 3,)\n",
    "results = netforce(part_list, 'gravity')\n",
    "print(results)"
   ]
  },
  {
   "cell_type": "code",
   "execution_count": null,
   "id": "32f62834-6d8d-4657-9360-fc7e8c7bda21",
   "metadata": {},
   "outputs": [],
   "source": []
  }
 ],
 "metadata": {
  "kernelspec": {
   "display_name": "Python 3 (ipykernel)",
   "language": "python",
   "name": "python3"
  },
  "language_info": {
   "codemirror_mode": {
    "name": "ipython",
    "version": 3
   },
   "file_extension": ".py",
   "mimetype": "text/x-python",
   "name": "python",
   "nbconvert_exporter": "python",
   "pygments_lexer": "ipython3",
   "version": "3.9.12"
  }
 },
 "nbformat": 4,
 "nbformat_minor": 5
}
