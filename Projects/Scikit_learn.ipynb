{
 "cells": [
  {
   "cell_type": "code",
   "execution_count": 1,
   "id": "c01c9137-1985-488f-8478-97528052c95a",
   "metadata": {},
   "outputs": [],
   "source": [
    "import matplotlib.pyplot as plt\n",
    "import csv\n",
    "import math\n",
    "import numpy as np\n",
    "from sklearn.neural_network import MLPClassifier\n",
    "\n",
    "def readdata(file, strat = 'int'):\n",
    "    \"\"\"\n",
    "    Used to read .txt file \n",
    "    \n",
    "    Args:\n",
    "    file (string): \n",
    "        file path\n",
    "    strat (string):\n",
    "        float int or string type\n",
    "    \"\"\"\n",
    "    file = open(file, \"r\")\n",
    "    lines = file.readlines()\n",
    "    \n",
    "    #processes line into a value\n",
    "    \n",
    "    if strat == 'float':\n",
    "        for i in range(len(lines)):\n",
    "            lines[i] = float(lines[i])\n",
    "        return lines\n",
    "    elif strat == 'int':\n",
    "        for i in range(len(lines)):\n",
    "            lines[i] = int(lines[i])\n",
    "        return lines\n",
    "    else:\n",
    "        return lines\n",
    "    \n",
    "def readarray(file):\n",
    "    file = open(file, \"r\")\n",
    "    line_reader = csv.reader(file, delimiter=',')\n",
    "    results = []\n",
    "    for row in line_reader:\n",
    "        temp_list = []\n",
    "        for i in range(len(row)):\n",
    "            temp_list.append(float(row[i]))\n",
    "        \n",
    "        results.append(temp_list)\n",
    "    \n",
    "    return results\n",
    "\n",
    "#random data selection\n",
    "\n",
    "def training_set(list, target, N):\n",
    "    \"\"\"\n",
    "    Grabs random entry's from list and returns new list of those selected entries, and second list containing target values\n",
    "    \n",
    "    Args:\n",
    "    list list:\n",
    "        variable list\n",
    "    target list:\n",
    "        classification list\n",
    "    N int:\n",
    "        number of entries to select\n",
    "    \"\"\"\n",
    "    variable_results = []\n",
    "    class_results = []\n",
    "    rand_index = np.random.randint(0, 100000, size=N)\n",
    "    for index in rand_index:\n",
    "        variable_results.append(list[index])\n",
    "        class_results.append(target[index])\n",
    "        \n",
    "    return variable_results, class_results\n",
    "\n",
    "def usableX(training_data):\n",
    "    temp_list = []\n",
    "    for i in range(len(training_data)):\n",
    "        temp_row = [1, training_data[i][0], training_data[i][1]]\n",
    "        temp_list.append(temp_row)\n",
    "        \n",
    "    return np.array(temp_list)\n",
    "\n",
    "def usable_galaxy(training_class):\n",
    "    temp_list = []\n",
    "    for i in training_class:\n",
    "        if i == 0:\n",
    "            temp_list.append(1)\n",
    "        else:\n",
    "            temp_list.append(0)\n",
    "    \n",
    "    return np.array(temp_list)\n",
    "\n",
    "def usable_quasar(training_class):\n",
    "    temp_list = []\n",
    "    for i in training_class:\n",
    "        if i == 2:\n",
    "            temp_list.append(1)\n",
    "        else:\n",
    "            temp_list.append(0)\n",
    "    return np.array(temp_list)\n",
    "\n",
    "def sort(train_var, train_class, x1, x2):\n",
    "    \"\"\"\n",
    "    Find all items in train_class of two given types\n",
    "    \"\"\"\n",
    "    var_results = []\n",
    "    class_results = []\n",
    "    for i in range(len(train_class)):\n",
    "        if train_class[i] == x1:\n",
    "            var_results.append(train_var[i])\n",
    "            class_results.append(train_class[i])\n",
    "        elif train_class[i] == x2:\n",
    "            var_results.append(train_var[i])\n",
    "            class_results.append(train_class[i])\n",
    "    return var_results, class_results"
   ]
  },
  {
   "cell_type": "code",
   "execution_count": 2,
   "id": "e2c1b000-0400-497f-885b-f918cb54df3c",
   "metadata": {},
   "outputs": [],
   "source": [
    "star_data = readarray('C:\\\\Users\\\\Danny\\\\Desktop\\\\Jeremy\\\\Stellar classification\\\\star_data.csv')\n",
    "star_class = readdata('C:\\\\Users\\\\Danny\\\\Desktop\\\\Jeremy\\\\Stellar classification\\\\star_class.txt')\n",
    "data = np.array(star_data)\n",
    "data_class = np.array(star_class)\n"
   ]
  },
  {
   "cell_type": "code",
   "execution_count": 62,
   "id": "322f1651-8ecd-4f08-966d-f2c866b76a40",
   "metadata": {},
   "outputs": [],
   "source": [
    "#training set of data, 1000 randomly selected elements from star data\n",
    "train_var, train_class = training_set(data, data_class, 20000)\n",
    "#sorted data for single neuron training, removes one class from pool of elements\n",
    "sort_var, sort_class = sort(train_var, train_class, 0, 1)\n",
    "test_x = usableX(train_var)\n",
    "test_y = usable_galaxy(train_class)"
   ]
  },
  {
   "cell_type": "code",
   "execution_count": 96,
   "id": "90545f7a-e5ff-4a1c-8c22-6f1e97004c64",
   "metadata": {},
   "outputs": [
    {
     "data": {
      "text/html": [
       "<style>#sk-container-id-9 {color: black;background-color: white;}#sk-container-id-9 pre{padding: 0;}#sk-container-id-9 div.sk-toggleable {background-color: white;}#sk-container-id-9 label.sk-toggleable__label {cursor: pointer;display: block;width: 100%;margin-bottom: 0;padding: 0.3em;box-sizing: border-box;text-align: center;}#sk-container-id-9 label.sk-toggleable__label-arrow:before {content: \"▸\";float: left;margin-right: 0.25em;color: #696969;}#sk-container-id-9 label.sk-toggleable__label-arrow:hover:before {color: black;}#sk-container-id-9 div.sk-estimator:hover label.sk-toggleable__label-arrow:before {color: black;}#sk-container-id-9 div.sk-toggleable__content {max-height: 0;max-width: 0;overflow: hidden;text-align: left;background-color: #f0f8ff;}#sk-container-id-9 div.sk-toggleable__content pre {margin: 0.2em;color: black;border-radius: 0.25em;background-color: #f0f8ff;}#sk-container-id-9 input.sk-toggleable__control:checked~div.sk-toggleable__content {max-height: 200px;max-width: 100%;overflow: auto;}#sk-container-id-9 input.sk-toggleable__control:checked~label.sk-toggleable__label-arrow:before {content: \"▾\";}#sk-container-id-9 div.sk-estimator input.sk-toggleable__control:checked~label.sk-toggleable__label {background-color: #d4ebff;}#sk-container-id-9 div.sk-label input.sk-toggleable__control:checked~label.sk-toggleable__label {background-color: #d4ebff;}#sk-container-id-9 input.sk-hidden--visually {border: 0;clip: rect(1px 1px 1px 1px);clip: rect(1px, 1px, 1px, 1px);height: 1px;margin: -1px;overflow: hidden;padding: 0;position: absolute;width: 1px;}#sk-container-id-9 div.sk-estimator {font-family: monospace;background-color: #f0f8ff;border: 1px dotted black;border-radius: 0.25em;box-sizing: border-box;margin-bottom: 0.5em;}#sk-container-id-9 div.sk-estimator:hover {background-color: #d4ebff;}#sk-container-id-9 div.sk-parallel-item::after {content: \"\";width: 100%;border-bottom: 1px solid gray;flex-grow: 1;}#sk-container-id-9 div.sk-label:hover label.sk-toggleable__label {background-color: #d4ebff;}#sk-container-id-9 div.sk-serial::before {content: \"\";position: absolute;border-left: 1px solid gray;box-sizing: border-box;top: 0;bottom: 0;left: 50%;z-index: 0;}#sk-container-id-9 div.sk-serial {display: flex;flex-direction: column;align-items: center;background-color: white;padding-right: 0.2em;padding-left: 0.2em;position: relative;}#sk-container-id-9 div.sk-item {position: relative;z-index: 1;}#sk-container-id-9 div.sk-parallel {display: flex;align-items: stretch;justify-content: center;background-color: white;position: relative;}#sk-container-id-9 div.sk-item::before, #sk-container-id-9 div.sk-parallel-item::before {content: \"\";position: absolute;border-left: 1px solid gray;box-sizing: border-box;top: 0;bottom: 0;left: 50%;z-index: -1;}#sk-container-id-9 div.sk-parallel-item {display: flex;flex-direction: column;z-index: 1;position: relative;background-color: white;}#sk-container-id-9 div.sk-parallel-item:first-child::after {align-self: flex-end;width: 50%;}#sk-container-id-9 div.sk-parallel-item:last-child::after {align-self: flex-start;width: 50%;}#sk-container-id-9 div.sk-parallel-item:only-child::after {width: 0;}#sk-container-id-9 div.sk-dashed-wrapped {border: 1px dashed gray;margin: 0 0.4em 0.5em 0.4em;box-sizing: border-box;padding-bottom: 0.4em;background-color: white;}#sk-container-id-9 div.sk-label label {font-family: monospace;font-weight: bold;display: inline-block;line-height: 1.2em;}#sk-container-id-9 div.sk-label-container {text-align: center;}#sk-container-id-9 div.sk-container {/* jupyter's `normalize.less` sets `[hidden] { display: none; }` but bootstrap.min.css set `[hidden] { display: none !important; }` so we also need the `!important` here to be able to override the default hidden behavior on the sphinx rendered scikit-learn.org. See: https://github.com/scikit-learn/scikit-learn/issues/21755 */display: inline-block !important;position: relative;}#sk-container-id-9 div.sk-text-repr-fallback {display: none;}</style><div id=\"sk-container-id-9\" class=\"sk-top-container\"><div class=\"sk-text-repr-fallback\"><pre>MLPClassifier(alpha=1e-05, hidden_layer_sizes=(5, 2), random_state=1,\n",
       "              solver=&#x27;lbfgs&#x27;)</pre><b>In a Jupyter environment, please rerun this cell to show the HTML representation or trust the notebook. <br />On GitHub, the HTML representation is unable to render, please try loading this page with nbviewer.org.</b></div><div class=\"sk-container\" hidden><div class=\"sk-item\"><div class=\"sk-estimator sk-toggleable\"><input class=\"sk-toggleable__control sk-hidden--visually\" id=\"sk-estimator-id-9\" type=\"checkbox\" checked><label for=\"sk-estimator-id-9\" class=\"sk-toggleable__label sk-toggleable__label-arrow\">MLPClassifier</label><div class=\"sk-toggleable__content\"><pre>MLPClassifier(alpha=1e-05, hidden_layer_sizes=(5, 2), random_state=1,\n",
       "              solver=&#x27;lbfgs&#x27;)</pre></div></div></div></div></div>"
      ],
      "text/plain": [
       "MLPClassifier(alpha=1e-05, hidden_layer_sizes=(5, 2), random_state=1,\n",
       "              solver='lbfgs')"
      ]
     },
     "execution_count": 96,
     "metadata": {},
     "output_type": "execute_result"
    }
   ],
   "source": [
    "galaxy = MLPClassifier(solver='lbfgs', alpha=1e-5, hidden_layer_sizes=(5, 2), random_state=1)\n",
    "\n",
    "galaxy.fit(train_var, train_class)"
   ]
  },
  {
   "cell_type": "code",
   "execution_count": 125,
   "id": "f0c923a3-029f-4ca5-8ac5-3df59084ce22",
   "metadata": {},
   "outputs": [],
   "source": [
    "def classifier_neuron(x):\n",
    "    \"\"\"\n",
    "    3 neuron neural network for stellar classification of 3 types of objects\n",
    "    x is data of [1, x1 , x2]\n",
    "    weights are array of[w0, w1, w2]\n",
    "    \"\"\"\n",
    "    #takes two neuron outputs, sums, round to whole int\n",
    "    neuron_result = round(x[0][0] + x[1][0])\n",
    "    return neuron_result\n",
    "\n",
    "def fnct(N):\n",
    "    for i in range(N):\n",
    "        results = []\n",
    "        results.append(galaxy.predict(test_x[i].reshape(1, -1)))\n",
    "        print(results[-1])\n",
    "        results.append(quasar.predict(test_x[i].reshape(1, -1)))\n",
    "        print(results[-1])\n",
    "        \n",
    "        print(classifier_neuron(results), test_y[i])\n",
    "        \n",
    "def accuracy(test_data, test_class):\n",
    "    a = 0\n",
    "    for i in range(len(test_data)):\n",
    "        result = galaxy.predict(test_data[i].reshape(1, -1))\n",
    "        if result == test_class[i]:\n",
    "            a += 1\n",
    "            \n",
    "    return a/(len(test_data))\n"
   ]
  },
  {
   "cell_type": "code",
   "execution_count": 126,
   "id": "0646cb8b-fe7f-4698-9d58-e44448cac7c8",
   "metadata": {},
   "outputs": [
    {
     "name": "stdout",
     "output_type": "stream",
     "text": [
      "Scikit Accuracy: 0.604\n"
     ]
    }
   ],
   "source": [
    "test_var, test_class = training_set(data, data_class, 1000)\n",
    "#sorted data for single neuron training, removes one class from pool of elements\n",
    "\n",
    "print('Scikit Accuracy:', accuracy(test_var, test_class))"
   ]
  }
 ],
 "metadata": {
  "kernelspec": {
   "display_name": "Python 3 (ipykernel)",
   "language": "python",
   "name": "python3"
  },
  "language_info": {
   "codemirror_mode": {
    "name": "ipython",
    "version": 3
   },
   "file_extension": ".py",
   "mimetype": "text/x-python",
   "name": "python",
   "nbconvert_exporter": "python",
   "pygments_lexer": "ipython3",
   "version": "3.9.12"
  }
 },
 "nbformat": 4,
 "nbformat_minor": 5
}
